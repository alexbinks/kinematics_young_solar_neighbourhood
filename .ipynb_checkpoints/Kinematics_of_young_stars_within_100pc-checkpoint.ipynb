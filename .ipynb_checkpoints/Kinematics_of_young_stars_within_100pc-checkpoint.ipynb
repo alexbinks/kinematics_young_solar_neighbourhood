{
 "cells": [
  {
   "cell_type": "markdown",
   "id": "40ca5207",
   "metadata": {},
   "source": [
    "# A pure Gaia-DR3 kinematic survey of candidate young stars within 100pc"
   ]
  },
  {
   "cell_type": "markdown",
   "id": "71881087",
   "metadata": {},
   "source": [
    "#### Two years ago I led a Gaia DR2-based project to map the kinematics of young stars within the nearest 100pc. The ~200 Li-rich (so definitely young) FGK-type stars were selected from kinematically-unbiased \"wide-angle\" surveys, meaning we could identify young stars that do not belong to groups, or maybe even find new groups altogether!\n",
    "#### We found out something cool: [*Half the young stars near the Sun are kinematic outliers - they are teenage runaways!*](https://ui.adsabs.harvard.edu/abs/2020MNRAS.494.2429B/abstract)\n",
    "\n",
    "This might have profound implications for the way stars are ejected from their birthsites - we can only postulate on where they might have come from:\n",
    "1. Really small grouplets of stars that can easily be Gravitationally unbounded.\n",
    "\n",
    "2. The result of a recent supernova event where the star's kinematics are dramatically altered.\n",
    "\n",
    "3. Gaussian tails of velocity distributions observed in some large star forming regions (the ones that are born really fast)."
   ]
  },
  {
   "cell_type": "markdown",
   "id": "947f6b98",
   "metadata": {},
   "source": [
    "### *It felt like a nice paper, but there was a small problem...*\n",
    "\n",
    "Although Gaia DR2 provided 5D kinematics (3D positions plus 2 tangential velocities) for all the stars, often the radial velocity data was missing, and we had to collect measurements from the literature, which clearly lead to systematic biases and errors that can't be accounted for."
   ]
  },
  {
   "cell_type": "markdown",
   "id": "f98ef0d3",
   "metadata": {},
   "source": [
    "## Step forward, DR3!\n",
    "\n",
    "Gaia DR3 has pretty much quadrupled the number of radial velocity measurements, so it's a good time to revisit this work. The plan is:\n",
    "\n",
    "1. Download DR3 data for all stars within 100pc, that have parallax signal-to-noise values > 5, and radial velocities with errors < 10 km/s.\n",
    "2. Measure [UVW Galactic space velocities](https://en.wikipedia.org/wiki/Stellar_kinematics) and their errors. This co-ordinate system has U in the direction of the Galactic Centre, V in the direction of Galactic rotation and W pointing towards the Galactic North Pole.\n",
    "3. Select stars that might be younger than ~40 Myr, by requiring that they lie above an empirically-derived  isochrone for the NGC2547 cluster in a Gaia G versus BP-RP colour-magnitude.\n",
    "4. Compare the kinematics of these candidate young, nearby stars with the known stellar moving groups within 100pc."
   ]
  },
  {
   "cell_type": "markdown",
   "id": "6ee72024",
   "metadata": {},
   "source": [
    "## Step 1: download DR3 data"
   ]
  },
  {
   "cell_type": "markdown",
   "id": "ae33427b",
   "metadata": {},
   "source": [
    "#### The following is the ADQL syntax used to get hold of the data, collected from the [ESAC website](https://gea.esac.esa.int/archive/).\n",
    "> SELECT g1.source_id, g1.ra, g1.dec, g1.parallax, g1.parallax_error, g1.pmra, g1.pmra_error, g1.pmdec, g1.pmdec_error, g1.parallax_pmra_corr, g1.parallax_pmdec_corr, g1.pmra_pmdec_corr, g1.ruwe, g1_phot_g_mean_mag, g1.phot_g_mean_flux, g1.phot_g_mean_flux_error, g1_phot_bp_mean_mag, g1.phot_bp_mean_flux, g1.phot_bp_mean_flux_error, g1_phot_rp_mean_mag, g1.phot_rp_mean_flux, g1.phot_rp_mean_flux_error, g1.radial_velocity, g1.radial_velocity_error\n",
    "FROM gaiadr3.gaia_source AS g1\n",
    "WHERE g1.parallax > 10 AND\n",
    "g1.parallax/g1.parallax_error > 5.0 AND\n",
    "g1.radial_velocity_error < 10.0\n",
    "\n",
    "This provide 165245 targets, approximately 21 MB and takes < 60 seconds for me to run on this machine with a good wifi connection."
   ]
  },
  {
   "cell_type": "markdown",
   "id": "108ae76f",
   "metadata": {},
   "source": [
    "## Step 2: measure UVW velocities\n",
    "Lina Necib made a superb python code which calculates UVW, with the Sun centered at (0,0,0) where the Solar LSR motion is adopted from astropy v4.0. All I've done is made a slight modification that allows the user to run the program and enter the name of their Gaia input catalogue at the same time (also checks that files are not overwritten if the code is accidentally ran more than once)."
   ]
  },
  {
   "cell_type": "code",
   "execution_count": null,
   "id": "ff7f4d73",
   "metadata": {},
   "outputs": [],
   "source": [
    "%run uvw.py gaia_dr3_100pc.csv"
   ]
  },
  {
   "cell_type": "markdown",
   "id": "91d370f1",
   "metadata": {},
   "source": [
    "## Step 3: select stars that might be younger than 40 Myr.\n",
    "Not gonna lie, this is based on some work I've been doing lately, so I'm just directly copying those results. In short what I did was: (a) identify high-probability members of NGC 2547 observed during the Gaia ESO Survey; (b) Obtain Gaia (okay, it's actually EDR3) photometry and correct for reddening and distance modulus; (c) fit a low-order polynomial to the whole G versus BP-RP dataset and select stars fainter than this locus; (d) make a 4th order polynomial to define the single-sequence for NGC 2547 targets.\n",
    "\n",
    "As it happens, this fit is described by:\n",
    "\n",
    "$$\n",
    "{M}_{G_{0}} = -0.4363c^{4} + 3.7814c^{3} - 11.7016c^{2} + 17.5906c - 4.7398\n",
    "$$\n",
    "where $c$ is the dereddened BP-RP colour."
   ]
  },
  {
   "cell_type": "code",
   "execution_count": null,
   "id": "014675e6",
   "metadata": {},
   "outputs": [],
   "source": [
    "import pandas as pd\n",
    "import matplotlib.pyplot as plt\n",
    "import numpy as np\n",
    "\n",
    "data_vel  = pd.read_csv(\"./data/gaia_dr3_100pc_uvw.csv\")\n",
    "data_gaia = pd.read_csv(\"./data/gaia_dr3_100pc.csv\")\n",
    "data = pd.concat([data_gaia, data_vel], axis = 1).T.drop_duplicates().T"
   ]
  },
  {
   "cell_type": "code",
   "execution_count": null,
   "id": "55b709fa",
   "metadata": {},
   "outputs": [],
   "source": [
    "c = [-0.43633632, 3.78136981, -11.7016018, 17.59062675, -4.73980986]\n",
    "data[\"bprp\"] = data[\"phot_bp_mean_mag\"]-data[\"phot_rp_mean_mag\"]\n",
    "data[\"absG\"] = data[\"phot_g_mean_mag\"] - 5.0*np.log10(100./data[\"parallax\"].astype(float))\n",
    "\n",
    "iso_g = np.zeros(len(data))\n",
    "\n",
    "for i, z in enumerate(c):\n",
    "    iso_g +=  z*data[\"bprp\"]**(len(c)-i-1)\n",
    "data[\"iso_g\"] = iso_g"
   ]
  },
  {
   "cell_type": "markdown",
   "id": "527d8a00",
   "metadata": {},
   "source": [
    "Only select stars that lie above this fit, and have $M_{G_{0}} > 4.0$, which removes giant stars on the AGB branch."
   ]
  },
  {
   "cell_type": "code",
   "execution_count": null,
   "id": "c65602c0",
   "metadata": {},
   "outputs": [],
   "source": [
    "gCMD = np.where((data[\"iso_g\"] > data[\"absG\"]) & (data[\"absG\"] > 4.0))[0]"
   ]
  },
  {
   "cell_type": "markdown",
   "id": "c836cfc8",
   "metadata": {},
   "source": [
    "Plot both the CMD and the U versus V velocity plots for the whole sample and the subsample of candidate young stars."
   ]
  },
  {
   "cell_type": "code",
   "execution_count": null,
   "id": "437b13ca",
   "metadata": {},
   "outputs": [],
   "source": [
    "import mpld3\n",
    "from mpld3 import plugins"
   ]
  },
  {
   "cell_type": "code",
   "execution_count": null,
   "id": "5e2f37c4",
   "metadata": {},
   "outputs": [],
   "source": [
    "# Define some CSS to control our custom labels\n",
    "css = \"\"\"\n",
    "table\n",
    "{\n",
    "  border-collapse: collapse;\n",
    "}\n",
    "th\n",
    "{\n",
    "  color: #ffffff;\n",
    "  background-color: #000000;\n",
    "}\n",
    "td\n",
    "{\n",
    "  background-color: #cccccc;\n",
    "}\n",
    "table, th, td\n",
    "{\n",
    "  font-family:Arial, Helvetica, sans-serif;\n",
    "  border: 1px solid black;\n",
    "  text-align: right;\n",
    "}\n",
    ".tooltip { \n",
    "    pointer-events: none;\n",
    "}\n",
    "\"\"\""
   ]
  },
  {
   "cell_type": "code",
   "execution_count": null,
   "id": "6f7811cb",
   "metadata": {},
   "outputs": [],
   "source": [
    "labels = []#np.zeros(len(x))\n",
    "for i in gCMD:\n",
    "#    print(x.iloc[[i], :].T)\n",
    "    label = x.iloc[[i], :].T\n",
    "#    label.columns = ['Row {0}'.format(i)]\n",
    "    label.columns = [data[\"source_id\"][i].astype(str)]\n",
    "    labels.append(str(label.to_html()))\n",
    "fig, ax = plt.subplots(figsize=(15, 10))\n",
    "ax.grid(True, alpha=0.3)\n",
    "ax.set_xlabel(\"$G_{BP}-G_{RP}$\")\n",
    "ax.set_ylabel(\"$M_G$\")\n",
    "ax.set_ylim([14,-2])\n",
    "ax.scatter(data[\"bprp\"], data[\"absG\"], c='black', alpha=0.2, s=0.25)\n",
    "points = ax.plot(data[\"bprp\"][gCMD], data[\"absG\"][gCMD], 'o',\n",
    "                 mec='k', ms=15, mew=1, alpha=.6)\n",
    "tooltip = plugins.PointHTMLTooltip(points[0], labels,\n",
    "                                   voffset=0.0, hoffset=0.0, css=css)\n",
    "\n",
    "plugins.connect(fig, tooltip)\n",
    "mpld3.save_html(fig, \"CMD_GaiaDR3.html\")"
   ]
  },
  {
   "cell_type": "code",
   "execution_count": null,
   "id": "d11877a8",
   "metadata": {
    "scrolled": true
   },
   "outputs": [],
   "source": [
    "from mpl_toolkits.mplot3d import Axes3D\n",
    "labels = []#np.zeros(len(x))\n",
    "for i in gCMD:\n",
    "#    print(x.iloc[[i], :].T)\n",
    "    label = data.iloc[[i], :].T\n",
    "    label.columns = [data[\"source_id\"][i].astype(str)]\n",
    "    labels.append(str(label.to_html()))\n",
    "\n",
    "    \n",
    "x, y, z = data[\"vU\"], data[\"vV\"], data[\"vW\"]\n",
    "print(x[gCMD].values)\n",
    "fig= plt.figure(figsize=(15,15))\n",
    "ax= fig.add_subplot(111, projection= '3d')\n",
    "ax.scatter(x, y, z, c='grey', alpha=0.2, s=0.25)\n",
    "ax.scatter(x[gCMD].values, y[gCMD].values, z[gCMD].values, 'o', c='black', s=40.0)\n",
    "\n",
    "ax.set_xlabel(\"$U$ velocity\")\n",
    "ax.set_ylabel(\"$V$ velocity\")\n",
    "ax.set_zlabel(\"$W$ velocity\")\n",
    "ax.set_xlim([min(x),max(x)])\n",
    "ax.set_ylim([min(y),max(y)])\n",
    "ax.set_zlim([min(z),max(z)])\n",
    "ax.plot(x[gCMD].values, y[gCMD].values, 'r+', zs=min(z), zdir='z')\n",
    "ax.plot(y[gCMD].values, z[gCMD].values, 'g+', zs=min(x), zdir='x')\n",
    "ax.plot(x[gCMD].values, z[gCMD].values, 'b+', zs=max(y), zdir='y')\n",
    "\n",
    "#points = ax.plot(x[gCMD].values, y[gCMD].values, z[gCMD].values, 'o',\n",
    "#                 mec='k', ms=15, mew=1, alpha=.6)\n",
    "#tooltip = plugins.PointHTMLTooltip(points[0], labels,\n",
    "#                                   voffset=0.0, hoffset=0.0, css=css)\n",
    "\n",
    "#print(points[0])\n",
    "#plugins.connect(fig, tooltip)\n",
    "#mpld3.save_html(fig, \"UVWvel_GaiaDR3.html\")"
   ]
  }
 ],
 "metadata": {
  "kernelspec": {
   "display_name": "Python 3 (ipykernel)",
   "language": "python",
   "name": "python3"
  },
  "language_info": {
   "codemirror_mode": {
    "name": "ipython",
    "version": 3
   },
   "file_extension": ".py",
   "mimetype": "text/x-python",
   "name": "python",
   "nbconvert_exporter": "python",
   "pygments_lexer": "ipython3",
   "version": "3.9.7"
  }
 },
 "nbformat": 4,
 "nbformat_minor": 5
}
